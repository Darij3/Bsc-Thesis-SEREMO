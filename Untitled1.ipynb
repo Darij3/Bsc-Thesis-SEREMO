{
  "nbformat": 4,
  "nbformat_minor": 0,
  "metadata": {
    "colab": {
      "name": "Untitled1.ipynb",
      "provenance": [],
      "collapsed_sections": [],
      "mount_file_id": "1AlnuJEmqxzmgVkS9yMywxfcqEbr64j-3",
      "authorship_tag": "ABX9TyNO/jCdfGo1BWV+YJhmY4+z",
      "include_colab_link": true
    },
    "kernelspec": {
      "name": "python3",
      "display_name": "Python 3"
    }
  },
  "cells": [
    {
      "cell_type": "markdown",
      "metadata": {
        "id": "view-in-github",
        "colab_type": "text"
      },
      "source": [
        "<a href=\"https://colab.research.google.com/github/Darij3/Bsc-Thesis-SEREMO/blob/master/Untitled1.ipynb\" target=\"_parent\"><img src=\"https://colab.research.google.com/assets/colab-badge.svg\" alt=\"Open In Colab\"/></a>"
      ]
    },
    {
      "cell_type": "code",
      "metadata": {
        "id": "dzl02IhWHEbz",
        "colab_type": "code",
        "colab": {}
      },
      "source": [
        "import tensorflow as tf\n",
        "\n",
        "from tensorflow.keras import datasets, layers, models\n",
        "import matplotlib.pyplot as plt\n",
        "import functools\n",
        "import pandas as pd\n",
        "import numpy as np\n",
        "import tensorflow as tf\n",
        "\n",
        "import numpy as np\n",
        "import keras\n",
        "from keras.models import Sequential\n",
        "from keras.layers import Dense, Dropout, Flatten\n",
        "from keras.layers import Conv2D, MaxPooling2D\n",
        "from keras.optimizers import SGD"
      ],
      "execution_count": 0,
      "outputs": []
    },
    {
      "cell_type": "code",
      "metadata": {
        "id": "PZTEJtCLvDU1",
        "colab_type": "code",
        "colab": {}
      },
      "source": [
        "from google.colab import drive\n",
        "drive.mount = ('/content/sample_data/fer2013.csv')# ievieto failus no google draiva"
      ],
      "execution_count": 0,
      "outputs": []
    },
    {
      "cell_type": "code",
      "metadata": {
        "id": "lkwf4ecjfUvV",
        "colab_type": "code",
        "colab": {}
      },
      "source": [
        "apmacibas_attelu_baze = \"/content/sample_data/fer2013.csv\"\n",
        "testa_attelu_baze = \"/content/sample_data/fer2013.csv\"\n",
        "\n",
        "train_file_path = tf.keras.utils.get_file(\"/content/sample_data/fer2013.csv\", apmacibas_attelu_baze)\n",
        "test_file_path = tf.keras.utils.get_file(\"/content/sample_data/fer2013.csv\", testa_attelu_baze)"
      ],
      "execution_count": 0,
      "outputs": []
    },
    {
      "cell_type": "code",
      "metadata": {
        "id": "KLBHGt_doXsc",
        "colab_type": "code",
        "outputId": "0d950301-e9b1-4596-b4da-6ba649639d5a",
        "colab": {
          "base_uri": "https://localhost:8080/",
          "height": 839
        }
      },
      "source": [
        "#atvert datasetu\n",
        "emocijas = pd.read_csv(\"/content/sample_data/fer2013.csv\") #cels csv failam\n",
        "emotion = ['Angry','Sad','Surprise','Disgust','Happy','Fear']\n",
        "display(emocijas)\n",
        "plt.image = emocijas[\"pixels\"][30] # 99th image\n",
        "val = image.split(\" \")\n",
        "x_pixels = np.array(val, 'float32')\n",
        "x_pixels /= 255\n",
        "x_reshaped = x_pixels.reshape(48,48)\n",
        "plt.imshow(x_reshaped, cmap= \"gray\", interpolation=\"nearest\")\n",
        "plt.xlabel(emotion_labels)\n",
        "print('Samples per emotion:')\n",
        "print(emocijas.emotion.value_counts())\n",
        "\n"
      ],
      "execution_count": 0,
      "outputs": [
        {
          "output_type": "display_data",
          "data": {
            "text/html": [
              "<div>\n",
              "<style scoped>\n",
              "    .dataframe tbody tr th:only-of-type {\n",
              "        vertical-align: middle;\n",
              "    }\n",
              "\n",
              "    .dataframe tbody tr th {\n",
              "        vertical-align: top;\n",
              "    }\n",
              "\n",
              "    .dataframe thead th {\n",
              "        text-align: right;\n",
              "    }\n",
              "</style>\n",
              "<table border=\"1\" class=\"dataframe\">\n",
              "  <thead>\n",
              "    <tr style=\"text-align: right;\">\n",
              "      <th></th>\n",
              "      <th>emotion</th>\n",
              "      <th>pixels</th>\n",
              "      <th>Usage</th>\n",
              "    </tr>\n",
              "  </thead>\n",
              "  <tbody>\n",
              "    <tr>\n",
              "      <th>0</th>\n",
              "      <td>0</td>\n",
              "      <td>70 80 82 72 58 58 60 63 54 58 60 48 89 115 121...</td>\n",
              "      <td>Training</td>\n",
              "    </tr>\n",
              "    <tr>\n",
              "      <th>1</th>\n",
              "      <td>0</td>\n",
              "      <td>151 150 147 155 148 133 111 140 170 174 182 15...</td>\n",
              "      <td>Training</td>\n",
              "    </tr>\n",
              "    <tr>\n",
              "      <th>2</th>\n",
              "      <td>2</td>\n",
              "      <td>231 212 156 164 174 138 161 173 182 200 106 38...</td>\n",
              "      <td>Training</td>\n",
              "    </tr>\n",
              "    <tr>\n",
              "      <th>3</th>\n",
              "      <td>4</td>\n",
              "      <td>24 32 36 30 32 23 19 20 30 41 21 22 32 34 21 1...</td>\n",
              "      <td>Training</td>\n",
              "    </tr>\n",
              "    <tr>\n",
              "      <th>4</th>\n",
              "      <td>6</td>\n",
              "      <td>4 0 0 0 0 0 0 0 0 0 0 0 3 15 23 28 48 50 58 84...</td>\n",
              "      <td>Training</td>\n",
              "    </tr>\n",
              "    <tr>\n",
              "      <th>...</th>\n",
              "      <td>...</td>\n",
              "      <td>...</td>\n",
              "      <td>...</td>\n",
              "    </tr>\n",
              "    <tr>\n",
              "      <th>35882</th>\n",
              "      <td>6</td>\n",
              "      <td>50 36 17 22 23 29 33 39 34 37 37 37 39 43 48 5...</td>\n",
              "      <td>PrivateTest</td>\n",
              "    </tr>\n",
              "    <tr>\n",
              "      <th>35883</th>\n",
              "      <td>3</td>\n",
              "      <td>178 174 172 173 181 188 191 194 196 199 200 20...</td>\n",
              "      <td>PrivateTest</td>\n",
              "    </tr>\n",
              "    <tr>\n",
              "      <th>35884</th>\n",
              "      <td>0</td>\n",
              "      <td>17 17 16 23 28 22 19 17 25 26 20 24 31 19 27 9...</td>\n",
              "      <td>PrivateTest</td>\n",
              "    </tr>\n",
              "    <tr>\n",
              "      <th>35885</th>\n",
              "      <td>3</td>\n",
              "      <td>30 28 28 29 31 30 42 68 79 81 77 67 67 71 63 6...</td>\n",
              "      <td>PrivateTest</td>\n",
              "    </tr>\n",
              "    <tr>\n",
              "      <th>35886</th>\n",
              "      <td>2</td>\n",
              "      <td>19 13 14 12 13 16 21 33 50 57 71 84 97 108 122...</td>\n",
              "      <td>PrivateTest</td>\n",
              "    </tr>\n",
              "  </tbody>\n",
              "</table>\n",
              "<p>35887 rows × 3 columns</p>\n",
              "</div>"
            ],
            "text/plain": [
              "       emotion                                             pixels        Usage\n",
              "0            0  70 80 82 72 58 58 60 63 54 58 60 48 89 115 121...     Training\n",
              "1            0  151 150 147 155 148 133 111 140 170 174 182 15...     Training\n",
              "2            2  231 212 156 164 174 138 161 173 182 200 106 38...     Training\n",
              "3            4  24 32 36 30 32 23 19 20 30 41 21 22 32 34 21 1...     Training\n",
              "4            6  4 0 0 0 0 0 0 0 0 0 0 0 3 15 23 28 48 50 58 84...     Training\n",
              "...        ...                                                ...          ...\n",
              "35882        6  50 36 17 22 23 29 33 39 34 37 37 37 39 43 48 5...  PrivateTest\n",
              "35883        3  178 174 172 173 181 188 191 194 196 199 200 20...  PrivateTest\n",
              "35884        0  17 17 16 23 28 22 19 17 25 26 20 24 31 19 27 9...  PrivateTest\n",
              "35885        3  30 28 28 29 31 30 42 68 79 81 77 67 67 71 63 6...  PrivateTest\n",
              "35886        2  19 13 14 12 13 16 21 33 50 57 71 84 97 108 122...  PrivateTest\n",
              "\n",
              "[35887 rows x 3 columns]"
            ]
          },
          "metadata": {
            "tags": []
          }
        },
        {
          "output_type": "stream",
          "text": [
            "Samples per emotion:\n",
            "3    8989\n",
            "6    6198\n",
            "4    6077\n",
            "2    5121\n",
            "0    4953\n",
            "5    4002\n",
            "1     547\n",
            "Name: emotion, dtype: int64\n"
          ],
          "name": "stdout"
        },
        {
          "output_type": "display_data",
          "data": {
            "image/png": "[encoded data removed]",
            "text/plain": [
              "<Figure size 432x288 with 1 Axes>"
            ]
          },
          "metadata": {
            "tags": [],
            "needs_background": "light"
          }
        }
      ]
    },
    {
      "cell_type": "code",
      "metadata": {
        "id": "YhV0UB1oO91y",
        "colab_type": "code",
        "outputId": "9a383d8b-f75a-4504-9aad-dd2692abe55f",
        "colab": {
          "base_uri": "https://localhost:8080/",
          "height": 265
        }
      },
      "source": [
        "import pandas as pd\n",
        "\n",
        "import numpy as np\n",
        "import matplotlib\n",
        "import matplotlib.pyplot as plt\n",
        "\n",
        "image = emocijas[\"pixels\"][30] # 99th image\n",
        "val = image.split(\" \")\n",
        "x_pixels = np.array(val, 'float32')\n",
        "x_pixels /= 255\n",
        "x_reshaped = x_pixels.reshape(48,48)\n",
        "plt.imshow(x_reshaped, cmap= \"gray\", interpolation=\"nearest\")\n",
        "plt.axis(\"off\")"
      ],
      "execution_count": 0,
      "outputs": [
        {
          "output_type": "execute_result",
          "data": {
            "text/plain": [
              "(-0.5, 47.5, 47.5, -0.5)"
            ]
          },
          "metadata": {
            "tags": []
          },
          "execution_count": 79
        },
        {
          "output_type": "display_data",
          "data": {
            "image/png": "[encoded data removed]",
            "text/plain": [
              "<Figure size 432x288 with 1 Axes>"
            ]
          },
          "metadata": {
            "tags": [],
            "needs_background": "light"
          }
        }
      ]
    },
    {
      "cell_type": "code",
      "metadata": {
        "id": "ioIu6GTC5Zs2",
        "colab_type": "code",
        "outputId": "ce20cb4b-8096-43fd-ba3b-2b91edd80330",
        "colab": {
          "base_uri": "https://localhost:8080/",
          "height": 1000
        }
      },
      "source": [
        "import numpy as np\n",
        "import keras\n",
        "from keras.models import Sequential\n",
        "from keras.layers import Dense, Dropout, Flatten\n",
        "from keras.layers import Conv2D, MaxPooling2D\n",
        "from keras.optimizers import SGD\n",
        "\n",
        "\n",
        "# Generate dummy data\n",
        "#x_train = np.random.random((100, 100, 100, 3))\n",
        "#y_train = keras.utils.to_categorical(np.random.randint(10, size=(100, 1)), num_classes=10)\n",
        "#x_test = np.random.random((20, 100, 100, 3))\n",
        "#y_test = keras.utils.to_categorical(np.random.randint(10, size=(20, 1)), num_classes=10)\n",
        "\n",
        "#temp_dataset = get_dataset(train_file_path, column_names=CSV_COLUMNS)\n",
        "model = Sequential()\n",
        "# input: 100x100 images with 3 channels -> (100, 100, 3) tensors.\n",
        "# this applies 32 convolution filters of size 3x3 each.\n",
        "model.add(Conv2D(32, (3, 3), activation='relu', input_shape=(100, 100, 3)))\n",
        "model.add(Conv2D(32, (3, 3), activation='relu'))\n",
        "model.add(MaxPooling2D(pool_size=(2, 2)))\n",
        "model.add(Dropout(0.25))\n",
        "\n",
        "model.add(Conv2D(64, (3, 3), activation='relu'))\n",
        "model.add(Conv2D(64, (3, 3), activation='relu'))\n",
        "model.add(MaxPooling2D(pool_size=(2, 2)))\n",
        "model.add(Dropout(0.25))\n",
        "\n",
        "model.add(Flatten())\n",
        "model.add(Dense(256, activation='relu'))\n",
        "model.add(Dropout(0.5))\n",
        "model.add(Dense(10, activation='softmax'))\n",
        "\n",
        "#sgd = SGD(lr=0.01, decay=1e-6, momentum=0.9, nesterov=True)\n",
        "#model.compile(loss='categorical_crossentropy', optimizer=sgd, )\n",
        "\n",
        "opt = keras.optimizers.Adam(learning_rate=0.01)\n",
        "model.compile(loss='categorical_crossentropy', optimizer=opt ,metrics=['accuracy'])\n",
        "model.summary()\n",
        "\n",
        "print('# Fit model on training data')\n",
        "history = model.fit(x_train, y_train,\n",
        "                    batch_size=64,\n",
        "                    epochs=50,\n",
        "                    # We pass some validation for\n",
        "                    # monitoring validation loss and metrics\n",
        "                    # at the end of each epoch\n",
        "                    validation_data=(x_test, y_test))\n",
        "\n",
        "print('\\nhistory dict:', history.history)\n"
      ],
      "execution_count": 0,
      "outputs": [
        {
          "output_type": "stream",
          "text": [
            "Model: \"sequential_27\"\n",
            "_________________________________________________________________\n",
            "Layer (type)                 Output Shape              Param #   \n",
            "=================================================================\n",
            "conv2d_105 (Conv2D)          (None, 98, 98, 32)        896       \n",
            "_________________________________________________________________\n",
            "conv2d_106 (Conv2D)          (None, 96, 96, 32)        9248      \n",
            "_________________________________________________________________\n",
            "max_pooling2d_53 (MaxPooling (None, 48, 48, 32)        0         \n",
            "_________________________________________________________________\n",
            "dropout_79 (Dropout)         (None, 48, 48, 32)        0         \n",
            "_________________________________________________________________\n",
            "conv2d_107 (Conv2D)          (None, 46, 46, 64)        18496     \n",
            "_________________________________________________________________\n",
            "conv2d_108 (Conv2D)          (None, 44, 44, 64)        36928     \n",
            "_________________________________________________________________\n",
            "max_pooling2d_54 (MaxPooling (None, 22, 22, 64)        0         \n",
            "_________________________________________________________________\n",
            "dropout_80 (Dropout)         (None, 22, 22, 64)        0         \n",
            "_________________________________________________________________\n",
            "flatten_27 (Flatten)         (None, 30976)             0         \n",
            "_________________________________________________________________\n",
            "dense_53 (Dense)             (None, 256)               7930112   \n",
            "_________________________________________________________________\n",
            "dropout_81 (Dropout)         (None, 256)               0         \n",
            "_________________________________________________________________\n",
            "dense_54 (Dense)             (None, 10)                2570      \n",
            "=================================================================\n",
            "Total params: 7,998,250\n",
            "Trainable params: 7,998,250\n",
            "Non-trainable params: 0\n",
            "_________________________________________________________________\n",
            "# Fit model on training data\n",
            "Train on 100 samples, validate on 20 samples\n",
            "Epoch 1/50\n",
            "100/100 [==============================] - 5s 45ms/step - loss: 10.0231 - accuracy: 0.0700 - val_loss: 2.3549 - val_accuracy: 0.0000e+00\n",
            "Epoch 2/50\n",
            "100/100 [==============================] - 4s 42ms/step - loss: 2.4103 - accuracy: 0.0800 - val_loss: 2.3028 - val_accuracy: 0.1000\n",
            "Epoch 3/50\n",
            "100/100 [==============================] - 4s 42ms/step - loss: 2.2931 - accuracy: 0.1500 - val_loss: 2.8135 - val_accuracy: 0.0000e+00\n",
            "Epoch 4/50\n",
            "100/100 [==============================] - 4s 42ms/step - loss: 2.4722 - accuracy: 0.1500 - val_loss: 2.3037 - val_accuracy: 0.0000e+00\n",
            "Epoch 5/50\n",
            "100/100 [==============================] - 4s 42ms/step - loss: 2.2990 - accuracy: 0.1700 - val_loss: 2.3058 - val_accuracy: 0.0000e+00\n",
            "Epoch 6/50\n",
            "100/100 [==============================] - 4s 41ms/step - loss: 2.2984 - accuracy: 0.1200 - val_loss: 2.3105 - val_accuracy: 0.0000e+00\n",
            "Epoch 7/50\n",
            "100/100 [==============================] - 4s 41ms/step - loss: 2.2965 - accuracy: 0.0700 - val_loss: 2.3166 - val_accuracy: 0.0000e+00\n",
            "Epoch 8/50\n",
            "100/100 [==============================] - 4s 42ms/step - loss: 2.2976 - accuracy: 0.1000 - val_loss: 2.3224 - val_accuracy: 0.0000e+00\n",
            "Epoch 9/50\n",
            "100/100 [==============================] - 4s 41ms/step - loss: 2.2945 - accuracy: 0.1200 - val_loss: 2.3296 - val_accuracy: 0.0000e+00\n",
            "Epoch 10/50\n",
            "100/100 [==============================] - 4s 42ms/step - loss: 2.2896 - accuracy: 0.1800 - val_loss: 2.3375 - val_accuracy: 0.0000e+00\n",
            "Epoch 11/50\n",
            "100/100 [==============================] - 4s 42ms/step - loss: 2.2874 - accuracy: 0.0900 - val_loss: 2.3457 - val_accuracy: 0.0000e+00\n",
            "Epoch 12/50\n",
            "100/100 [==============================] - 4s 42ms/step - loss: 2.2841 - accuracy: 0.1300 - val_loss: 2.3551 - val_accuracy: 0.0000e+00\n",
            "Epoch 13/50\n",
            "100/100 [==============================] - 4s 42ms/step - loss: 2.2814 - accuracy: 0.1700 - val_loss: 2.3648 - val_accuracy: 0.0000e+00\n",
            "Epoch 14/50\n",
            "100/100 [==============================] - 4s 42ms/step - loss: 2.2798 - accuracy: 0.1700 - val_loss: 2.3755 - val_accuracy: 0.0000e+00\n",
            "Epoch 15/50\n",
            "100/100 [==============================] - 4s 41ms/step - loss: 2.2832 - accuracy: 0.1500 - val_loss: 2.3857 - val_accuracy: 0.0000e+00\n",
            "Epoch 16/50\n",
            "100/100 [==============================] - 4s 42ms/step - loss: 2.2764 - accuracy: 0.1600 - val_loss: 2.3960 - val_accuracy: 0.0000e+00\n",
            "Epoch 17/50\n",
            "100/100 [==============================] - 4s 42ms/step - loss: 2.2719 - accuracy: 0.1400 - val_loss: 2.4057 - val_accuracy: 0.0000e+00\n",
            "Epoch 18/50\n",
            "100/100 [==============================] - 4s 42ms/step - loss: 2.2606 - accuracy: 0.1600 - val_loss: 2.4162 - val_accuracy: 0.0000e+00\n",
            "Epoch 19/50\n",
            "100/100 [==============================] - 4s 41ms/step - loss: 2.2701 - accuracy: 0.1500 - val_loss: 2.4269 - val_accuracy: 0.0000e+00\n",
            "Epoch 20/50\n",
            "100/100 [==============================] - 4s 41ms/step - loss: 2.2708 - accuracy: 0.1700 - val_loss: 2.4369 - val_accuracy: 0.0000e+00\n",
            "Epoch 21/50\n",
            "100/100 [==============================] - 4s 41ms/step - loss: 2.2824 - accuracy: 0.1600 - val_loss: 2.4441 - val_accuracy: 0.0000e+00\n",
            "Epoch 22/50\n",
            "100/100 [==============================] - 4s 42ms/step - loss: 2.2683 - accuracy: 0.1500 - val_loss: 2.4510 - val_accuracy: 0.0000e+00\n",
            "Epoch 23/50\n",
            "100/100 [==============================] - 4s 41ms/step - loss: 2.2570 - accuracy: 0.1600 - val_loss: 2.4579 - val_accuracy: 0.0000e+00\n",
            "Epoch 24/50\n",
            "100/100 [==============================] - 4s 42ms/step - loss: 2.2617 - accuracy: 0.1600 - val_loss: 2.4636 - val_accuracy: 0.0000e+00\n",
            "Epoch 25/50\n",
            "100/100 [==============================] - 4s 41ms/step - loss: 2.2730 - accuracy: 0.1800 - val_loss: 2.4666 - val_accuracy: 0.0000e+00\n",
            "Epoch 26/50\n",
            "100/100 [==============================] - 4s 42ms/step - loss: 2.2642 - accuracy: 0.1700 - val_loss: 2.4689 - val_accuracy: 0.0000e+00\n",
            "Epoch 27/50\n",
            "100/100 [==============================] - 4s 42ms/step - loss: 2.2576 - accuracy: 0.1600 - val_loss: 2.4731 - val_accuracy: 0.0000e+00\n",
            "Epoch 28/50\n",
            "100/100 [==============================] - 4s 41ms/step - loss: 2.2589 - accuracy: 0.1600 - val_loss: 2.4795 - val_accuracy: 0.0000e+00\n",
            "Epoch 29/50\n",
            "100/100 [==============================] - 4s 41ms/step - loss: 2.2630 - accuracy: 0.1500 - val_loss: 2.4840 - val_accuracy: 0.0000e+00\n",
            "Epoch 30/50\n",
            "100/100 [==============================] - 4s 41ms/step - loss: 2.2721 - accuracy: 0.1600 - val_loss: 2.4854 - val_accuracy: 0.0000e+00\n",
            "Epoch 31/50\n",
            "100/100 [==============================] - 4s 41ms/step - loss: 2.2679 - accuracy: 0.1400 - val_loss: 2.4854 - val_accuracy: 0.0000e+00\n",
            "Epoch 32/50\n",
            "100/100 [==============================] - 4s 42ms/step - loss: 2.2655 - accuracy: 0.1600 - val_loss: 2.4836 - val_accuracy: 0.0000e+00\n",
            "Epoch 33/50\n",
            "100/100 [==============================] - 4s 41ms/step - loss: 2.2577 - accuracy: 0.1700 - val_loss: 2.4839 - val_accuracy: 0.0000e+00\n",
            "Epoch 34/50\n",
            "100/100 [==============================] - 4s 41ms/step - loss: 2.2683 - accuracy: 0.1500 - val_loss: 2.4824 - val_accuracy: 0.0000e+00\n",
            "Epoch 35/50\n",
            "100/100 [==============================] - 4s 42ms/step - loss: 2.2706 - accuracy: 0.1600 - val_loss: 2.4798 - val_accuracy: 0.0000e+00\n",
            "Epoch 36/50\n",
            "100/100 [==============================] - 4s 42ms/step - loss: 2.2707 - accuracy: 0.1600 - val_loss: 2.4774 - val_accuracy: 0.0000e+00\n",
            "Epoch 37/50\n",
            "100/100 [==============================] - 4s 41ms/step - loss: 2.2676 - accuracy: 0.1700 - val_loss: 2.4759 - val_accuracy: 0.0000e+00\n",
            "Epoch 38/50\n",
            "100/100 [==============================] - 4s 41ms/step - loss: 2.2739 - accuracy: 0.1800 - val_loss: 2.4732 - val_accuracy: 0.0000e+00\n",
            "Epoch 39/50\n",
            "100/100 [==============================] - 4s 41ms/step - loss: 2.2722 - accuracy: 0.1700 - val_loss: 2.4698 - val_accuracy: 0.0000e+00\n",
            "Epoch 40/50\n",
            "100/100 [==============================] - 4s 41ms/step - loss: 2.2706 - accuracy: 0.1600 - val_loss: 2.4667 - val_accuracy: 0.0000e+00\n",
            "Epoch 41/50\n",
            "100/100 [==============================] - 4s 41ms/step - loss: 2.2684 - accuracy: 0.1500 - val_loss: 2.4655 - val_accuracy: 0.0000e+00\n",
            "Epoch 42/50\n",
            "100/100 [==============================] - 4s 42ms/step - loss: 2.2644 - accuracy: 0.1500 - val_loss: 2.4616 - val_accuracy: 0.0000e+00\n",
            "Epoch 43/50\n",
            "100/100 [==============================] - 4s 42ms/step - loss: 2.2620 - accuracy: 0.1600 - val_loss: 2.4585 - val_accuracy: 0.0000e+00\n",
            "Epoch 44/50\n",
            "100/100 [==============================] - 4s 42ms/step - loss: 2.2615 - accuracy: 0.1600 - val_loss: 2.4570 - val_accuracy: 0.0000e+00\n",
            "Epoch 45/50\n",
            "100/100 [==============================] - 4s 41ms/step - loss: 2.2549 - accuracy: 0.1500 - val_loss: 2.4561 - val_accuracy: 0.0000e+00\n",
            "Epoch 46/50\n",
            "100/100 [==============================] - 4s 41ms/step - loss: 2.2590 - accuracy: 0.1800 - val_loss: 2.4563 - val_accuracy: 0.0000e+00\n",
            "Epoch 47/50\n",
            "100/100 [==============================] - 4s 41ms/step - loss: 2.2739 - accuracy: 0.1500 - val_loss: 2.4569 - val_accuracy: 0.0000e+00\n",
            "Epoch 48/50\n",
            "100/100 [==============================] - 4s 41ms/step - loss: 2.2627 - accuracy: 0.1700 - val_loss: 2.4569 - val_accuracy: 0.0000e+00\n",
            "Epoch 49/50\n",
            "100/100 [==============================] - 4s 41ms/step - loss: 2.2626 - accuracy: 0.1600 - val_loss: 2.4571 - val_accuracy: 0.0000e+00\n",
            "Epoch 50/50\n",
            "100/100 [==============================] - 4s 41ms/step - loss: 2.2606 - accuracy: 0.1500 - val_loss: 2.4582 - val_accuracy: 0.0000e+00\n",
            "\n",
            "history dict: {'val_loss': [2.3549423217773438, 2.3027665615081787, 2.81347393989563, 2.3037400245666504, 2.305847644805908, 2.3104546070098877, 2.3165576457977295, 2.322380542755127, 2.3295960426330566, 2.337498903274536, 2.345696449279785, 2.355072498321533, 2.3647656440734863, 2.3754630088806152, 2.3857421875, 2.3960094451904297, 2.4056572914123535, 2.41618275642395, 2.42685604095459, 2.4369125366210938, 2.4440884590148926, 2.4510045051574707, 2.4578800201416016, 2.4636452198028564, 2.466590404510498, 2.4688806533813477, 2.4730610847473145, 2.4794673919677734, 2.4839751720428467, 2.4853515625, 2.4853675365448, 2.4835903644561768, 2.4839274883270264, 2.482393264770508, 2.4798195362091064, 2.4774067401885986, 2.475881814956665, 2.47318959236145, 2.469773054122925, 2.4666571617126465, 2.465521812438965, 2.461577892303467, 2.4584503173828125, 2.457017421722412, 2.4560790061950684, 2.456326723098755, 2.456899642944336, 2.4569084644317627, 2.457108974456787, 2.4582486152648926], 'val_accuracy': [0.0, 0.10000000149011612, 0.0, 0.0, 0.0, 0.0, 0.0, 0.0, 0.0, 0.0, 0.0, 0.0, 0.0, 0.0, 0.0, 0.0, 0.0, 0.0, 0.0, 0.0, 0.0, 0.0, 0.0, 0.0, 0.0, 0.0, 0.0, 0.0, 0.0, 0.0, 0.0, 0.0, 0.0, 0.0, 0.0, 0.0, 0.0, 0.0, 0.0, 0.0, 0.0, 0.0, 0.0, 0.0, 0.0, 0.0, 0.0, 0.0, 0.0, 0.0], 'loss': [10.023078536987304, 2.4103450393676757, 2.2931382560729983, 2.4722258377075197, 2.298962688446045, 2.298448371887207, 2.2965029811859132, 2.2976033687591553, 2.294509325027466, 2.2895925998687745, 2.2874323749542236, 2.284120044708252, 2.2813815784454348, 2.279802188873291, 2.2832439804077147, 2.27636212348938, 2.271941785812378, 2.260551052093506, 2.2701208114624025, 2.270771894454956, 2.282417163848877, 2.2682768440246583, 2.2570464706420896, 2.2616700077056886, 2.27299054145813, 2.2642376804351807, 2.257565851211548, 2.2589015579223632, 2.263030557632446, 2.272063970565796, 2.267914390563965, 2.2655015754699708, 2.2577256393432616, 2.268288297653198, 2.2705932521820067, 2.2707221698760987, 2.2676483821868896, 2.2738836765289308, 2.27223087310791, 2.2706369018554686, 2.2684392166137695, 2.264385070800781, 2.2619988822937014, 2.26151554107666, 2.254946918487549, 2.259034652709961, 2.2738757038116457, 2.262663555145264, 2.2625711154937744, 2.260593433380127], 'accuracy': [0.07, 0.08, 0.15, 0.15, 0.17, 0.12, 0.07, 0.1, 0.12, 0.18, 0.09, 0.13, 0.17, 0.17, 0.15, 0.16, 0.14, 0.16, 0.15, 0.17, 0.16, 0.15, 0.16, 0.16, 0.18, 0.17, 0.16, 0.16, 0.15, 0.16, 0.14, 0.16, 0.17, 0.15, 0.16, 0.16, 0.17, 0.18, 0.17, 0.16, 0.15, 0.15, 0.16, 0.16, 0.15, 0.18, 0.15, 0.17, 0.16, 0.15]}\n"
          ],
          "name": "stdout"
        }
      ]
    },
    {
      "cell_type": "code",
      "metadata": {
        "id": "u95x8h0qZkzI",
        "colab_type": "code",
        "outputId": "85f3fc73-70b7-4f24-b3ee-e75d29a44be0",
        "colab": {
          "base_uri": "https://localhost:8080/",
          "height": 35
        }
      },
      "source": [
        "model.metrics_names"
      ],
      "execution_count": 0,
      "outputs": [
        {
          "output_type": "execute_result",
          "data": {
            "text/plain": [
              "['loss', 'accuracy']"
            ]
          },
          "metadata": {
            "tags": []
          },
          "execution_count": 102
        }
      ]
    },
    {
      "cell_type": "code",
      "metadata": {
        "id": "_PuwYhxic49x",
        "colab_type": "code",
        "outputId": "f528b4b7-4766-4e83-fd75-47675503587b",
        "colab": {
          "base_uri": "https://localhost:8080/",
          "height": 499
        }
      },
      "source": [
        "import matplotlib.pyplot as plt\n",
        "acc = history.history['accuracy']\n",
        "val_acc = history.history['val_accuracy']\n",
        "\n",
        "loss=history.history['loss']\n",
        "val_loss=history.history['val_loss']\n",
        "\n",
        "plt.figure(figsize=(8, 8))\n",
        "plt.subplot(1, 2, 1)\n",
        "plt.plot(acc, label='Training Accuracy')\n",
        "plt.plot(val_acc, label='Validation Accuracy')\n",
        "plt.legend(loc='lower right')\n",
        "plt.title('Training and Validation Accuracy')\n",
        "\n",
        "plt.subplot(1, 2, 2)\n",
        "plt.plot(loss, label='Training Loss')\n",
        "plt.plot(val_loss, label='Validation Loss')\n",
        "plt.legend(loc='upper right')\n",
        "plt.title('Training and Validation Loss')\n",
        "plt.show()"
      ],
      "execution_count": 0,
      "outputs": [
        {
          "output_type": "display_data",
          "data": {
            "image/png": "[encoded data removed]",
            "text/plain": [
              "<Figure size 576x576 with 2 Axes>"
            ]
          },
          "metadata": {
            "tags": [],
            "needs_background": "light"
          }
        }
      ]
    },
    {
      "cell_type": "code",
      "metadata": {
        "id": "VWlmlwUKhSMT",
        "colab_type": "code",
        "outputId": "6cdeb044-5f8c-4205-e9a2-edd80b999d47",
        "colab": {
          "base_uri": "https://localhost:8080/",
          "height": 55
        }
      },
      "source": [
        "print(val_acc)"
      ],
      "execution_count": 0,
      "outputs": [
        {
          "output_type": "stream",
          "text": [
            "[0.0, 0.10000000149011612, 0.0, 0.0, 0.0, 0.0, 0.0, 0.0, 0.0, 0.0, 0.0, 0.0, 0.0, 0.0, 0.0, 0.0, 0.0, 0.0, 0.0, 0.0, 0.0, 0.0, 0.0, 0.0, 0.0, 0.0, 0.0, 0.0, 0.0, 0.0, 0.0, 0.0, 0.0, 0.0, 0.0, 0.0, 0.0, 0.0, 0.0, 0.0, 0.0, 0.0, 0.0, 0.0, 0.0, 0.0, 0.0, 0.0, 0.0, 0.0]\n"
          ],
          "name": "stdout"
        }
      ]
    }
  ]
}